{
  "cells": [
    {
      "cell_type": "code",
      "execution_count": null,
      "id": "0f97ddb3-0841-4300-bd9e-996a0ae42431",
      "metadata": {
        "id": "0f97ddb3-0841-4300-bd9e-996a0ae42431"
      },
      "outputs": [],
      "source": [
        "import os\n",
        "import numpy as np\n",
        "import cv2\n",
        "import matplotlib.pyplot as plt\n",
        "import pickle\n",
        "import random\n",
        "from sklearn.model_selection import train_test_split\n",
        "from sklearn.svm import SVC\n",
        "from sklearn.metrics import confusion_matrix, accuracy_score\n",
        "from sklearn.preprocessing import StandardScaler\n",
        "from sklearn import svm"
      ]
    },
    {
      "cell_type": "code",
      "source": [
        "import os\n",
        "import cv2\n",
        "import numpy as np\n",
        "from google.colab import files\n",
        "import zipfile\n",
        "\n",
        "with zipfile.ZipFile('test1.zip', 'r') as zip_ref:\n",
        "    zip_ref.extractall('/content/')\n",
        "with zipfile.ZipFile('train.zip', 'r') as zip_ref:\n",
        "    zip_ref.extractall('/content/')\n",
        "\n",
        "\n",
        "train_dir = 'train'\n",
        "test_dir = 'test1'\n",
        "train_data = []\n",
        "test_data = []\n",
        "\n",
        "\n",
        "def process_images(directory, data_list, is_train=True):\n",
        "    if is_train:\n",
        "        for img in os.listdir(directory):\n",
        "            label = None\n",
        "            if img.startswith('cat'):\n",
        "                label = 0  # 'cat' label\n",
        "            elif img.startswith('dog'):\n",
        "                label = 1  # 'dog' label\n",
        "\n",
        "            if label is not None:\n",
        "                img_path = os.path.join(directory, img)\n",
        "                pet_picture = cv2.imread(img_path, 0)\n",
        "                try:\n",
        "                    pet_picture = cv2.resize(pet_picture, (100, 100))\n",
        "                    image = np.array(pet_picture).flatten()\n",
        "                    data_list.append([image, label])\n",
        "                except Exception as e:\n",
        "                    pass\n",
        "    else:\n",
        "        for img in os.listdir(directory):\n",
        "            img_path = os.path.join(directory, img)\n",
        "            pet_picture = cv2.imread(img_path, 0)\n",
        "            try:\n",
        "                pet_picture = cv2.resize(pet_picture, (100, 100))\n",
        "                image = np.array(pet_picture).flatten()\n",
        "                data_list.append(image)\n",
        "            except Exception as e:\n",
        "                pass\n",
        "\n",
        "process_images(train_dir, train_data, is_train=True)\n",
        "print(f\"Number of training samples: {len(train_data)}\")\n",
        "process_images(test_dir, test_data, is_train=False)\n",
        "print(f\"Number of testing samples: {len(test_data)}\")\n"
      ],
      "metadata": {
        "colab": {
          "base_uri": "https://localhost:8080/"
        },
        "id": "sceSxfc6HSv2",
        "outputId": "a0023048-1dff-4f86-db8e-2431296f1e21"
      },
      "id": "sceSxfc6HSv2",
      "execution_count": null,
      "outputs": [
        {
          "output_type": "stream",
          "name": "stdout",
          "text": [
            "Number of training samples: 25000\n",
            "Number of testing samples: 12500\n"
          ]
        }
      ]
    },
    {
      "cell_type": "code",
      "execution_count": null,
      "id": "ee011783-6234-46c9-9a67-c10ffe13846b",
      "metadata": {
        "id": "ee011783-6234-46c9-9a67-c10ffe13846b"
      },
      "outputs": [],
      "source": [
        "random.shuffle(train_data)\n",
        "features = []\n",
        "labels = []\n",
        "for feature,label in train_data:\n",
        "    features.append(feature)\n",
        "    labels.append(label)"
      ]
    },
    {
      "cell_type": "code",
      "execution_count": null,
      "id": "b7e1f958-742d-4adf-9a51-4de8b8e6a396",
      "metadata": {
        "id": "b7e1f958-742d-4adf-9a51-4de8b8e6a396"
      },
      "outputs": [],
      "source": [
        "\n",
        "X_train = np.array([item[0] for item in train_data])\n",
        "y_train = np.array([item[1] for item in train_data])"
      ]
    },
    {
      "cell_type": "code",
      "execution_count": null,
      "id": "65853a2a-5278-49ed-8012-cf1bdad62db1",
      "metadata": {
        "id": "65853a2a-5278-49ed-8012-cf1bdad62db1"
      },
      "outputs": [],
      "source": [
        "scaler = StandardScaler()\n",
        "X_train_scaled = scaler.fit_transform(X_train)\n"
      ]
    },
    {
      "cell_type": "code",
      "execution_count": null,
      "id": "ca693a93-adbb-442c-bb94-89fcea41cccc",
      "metadata": {
        "id": "ca693a93-adbb-442c-bb94-89fcea41cccc"
      },
      "outputs": [],
      "source": [
        "\n",
        "clf = svm.SVC(kernel='linear')\n",
        "clf.fit(X_train_scaled, y_train)\n"
      ]
    },
    {
      "cell_type": "code",
      "execution_count": null,
      "id": "76cd73d6-0b1b-4474-9d73-ddb7298035ce",
      "metadata": {
        "id": "76cd73d6-0b1b-4474-9d73-ddb7298035ce"
      },
      "outputs": [],
      "source": [
        "y_train_pred = clf.predict(X_train_scaled)\n",
        "print(f\"Training accuracy: {accuracy_score(y_train, y_train_pred)}\")"
      ]
    },
    {
      "cell_type": "code",
      "execution_count": null,
      "id": "ed9eab63-a87b-47fe-b0f0-fc516600a828",
      "metadata": {
        "id": "ed9eab63-a87b-47fe-b0f0-fc516600a828"
      },
      "outputs": [],
      "source": [
        "X_test = np.array(test_data)\n",
        "X_test_scaled = scaler.transform(X_test)\n",
        "\n",
        "# Predict on test data\n",
        "test_predictions = clf.predict(X_test_scaled)"
      ]
    },
    {
      "cell_type": "code",
      "execution_count": null,
      "id": "5f9b13a7-98a5-4084-933d-76fb41ad6be4",
      "metadata": {
        "id": "5f9b13a7-98a5-4084-933d-76fb41ad6be4"
      },
      "outputs": [],
      "source": [
        "import pandas as pd\n",
        "\n",
        "df = pd.DataFrame(test_predictions, columns=['Label'])\n",
        "df.to_csv('test_predictions.csv', index=False)\n",
        "print(\"Test predictions saved to 'test_predictions.csv'\")"
      ]
    },
    {
      "cell_type": "code",
      "execution_count": null,
      "id": "83ecf019-0407-438f-b466-7ab30694198b",
      "metadata": {
        "id": "83ecf019-0407-438f-b466-7ab30694198b"
      },
      "outputs": [],
      "source": [
        "mypet=X_test[98].reshape(100,100)\n",
        "plt.imshow(mypet,cmap='gray')\n",
        "plt.show()"
      ]
    },
    {
      "cell_type": "code",
      "execution_count": null,
      "id": "da095011-a57c-44af-ae93-47d43ff10114",
      "metadata": {
        "id": "da095011-a57c-44af-ae93-47d43ff10114"
      },
      "outputs": [],
      "source": []
    }
  ],
  "metadata": {
    "kernelspec": {
      "display_name": "Python 3 (ipykernel)",
      "language": "python",
      "name": "python3"
    },
    "language_info": {
      "codemirror_mode": {
        "name": "ipython",
        "version": 3
      },
      "file_extension": ".py",
      "mimetype": "text/x-python",
      "name": "python",
      "nbconvert_exporter": "python",
      "pygments_lexer": "ipython3",
      "version": "3.11.5"
    },
    "colab": {
      "provenance": []
    }
  },
  "nbformat": 4,
  "nbformat_minor": 5
}